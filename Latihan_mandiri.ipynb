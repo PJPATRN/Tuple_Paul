{
 "cells": [
  {
   "cell_type": "markdown",
   "metadata": {},
   "source": [
    "Latihan 11.1"
   ]
  },
  {
   "cell_type": "code",
   "execution_count": 2,
   "metadata": {},
   "outputs": [
    {
     "name": "stdout",
     "output_type": "stream",
     "text": [
      "True\n"
     ]
    }
   ],
   "source": [
    "#  Buatlah program untuk melakukan pengecekan apakah semua anggota yang ada\n",
    "# didalam tuple sama.\n",
    "# Contoh:\n",
    "# tA= (90, 90, 90, 90)\n",
    "# Output\n",
    "# True\n",
    "Tuple1 = (1,1,1,1,1,1,1,1)\n",
    "a = 0\n",
    "for i in range(len(Tuple1)):\n",
    "    if Tuple1[i] == Tuple1[a]:\n",
    "        hasil = True\n",
    "        a = i\n",
    "    else:\n",
    "        hasil = False\n",
    "        break\n",
    "print(hasil)"
   ]
  },
  {
   "cell_type": "markdown",
   "metadata": {},
   "source": [
    "Latihan 11.2"
   ]
  },
  {
   "cell_type": "code",
   "execution_count": 89,
   "metadata": {},
   "outputs": [
    {
     "name": "stdout",
     "output_type": "stream",
     "text": [
      "NIM: 71231017\n",
      "NAMA: Paulus Ungirwalu\n",
      "ALAMAT: Hamadi, Jayapura\n",
      "\n",
      "\n",
      "NIM: ('7', '1', '2', '3', '1', '0', '1', '7')\n",
      "NAMA DEPAN: ('a', 'u', 'l', 'u', 's')\n",
      "NAMA TERBALIK: ['Ungirwalu', 'Paulus']\n"
     ]
    }
   ],
   "source": [
    "# Buatlah program dengan menggunakan tuple yang dapat melalakukan proses\n",
    "# seperti pada kasus 11.1, Gunakan data diri anda masing-masing dan lakukan perubahan supaya\n",
    "# didapatkan output seperti contoh berikut ini :\n",
    "\n",
    "'''Contoh:\n",
    "Data: ('Matahari Bhakti Nendya', '22064091', 'Bantul, DI Yogyakarta')\n",
    "\n",
    "NIM : 22064091\n",
    "NAMA : Matahari Bhakti Nendya\n",
    "ALAMAT : Bantul, DI Yogyakarta\n",
    "\n",
    "NIM: ('2', '2', '0', '6', '4', '0', '9', '1')\n",
    "NAMA DEPAN: ('a', 't', 'a', 'h', 'a', 'r', 'i')\n",
    "NAMA TERBALIK: ('Nendya', 'Bhakti', 'Matahari')'''\n",
    "\n",
    "\n",
    "Nama, Nim, Alamat = ('Paulus Ungirwalu', '71231017', 'Hamadi, Jayapura')\n",
    "Pisah = Nama.split(\" \")\n",
    "Terbalik = []\n",
    "for i in Pisah[::-1]:\n",
    "    Terbalik.append(i)\n",
    "#Output pertama\n",
    "print(f\"NIM: {Nim}\")\n",
    "print(f\"NAMA: {Nama}\")\n",
    "print(f\"ALAMAT: {Alamat}\\n\\n\")\n",
    "\n",
    "#Output kedua\n",
    "print(f\"NIM: {tuple(Nim)}\")\n",
    "print(f\"NAMA DEPAN: {tuple(Nama[1:6])}\") #Sengaja menghilangkan huruf depan supaya sama dengan output yang diminta\n",
    "print(f\"NAMA TERBALIK: {Terbalik}\")"
   ]
  },
  {
   "cell_type": "markdown",
   "metadata": {},
   "source": [
    "Latihan 11.3"
   ]
  },
  {
   "cell_type": "code",
   "execution_count": 5,
   "metadata": {},
   "outputs": [
    {
     "name": "stdout",
     "output_type": "stream",
     "text": [
      "Jam\tHasil\n",
      "------------------\n",
      "04\t3\n",
      "06\t1\n",
      "07\t1\n",
      "09\t2\n",
      "10\t3\n",
      "11\t6\n",
      "14\t1\n",
      "15\t2\n",
      "16\t4\n",
      "17\t2\n",
      "18\t1\n",
      "19\t1\n"
     ]
    }
   ],
   "source": [
    "# Buatlah program untuk menghitung distribusi jam dalam satu hari dimana ada\n",
    "# pesan yang diterima dari setiap email yang masuk. Gunakan file mbox-short.txt untuk sebagai\n",
    "# datanya. Berikut ini adalah contoh output dari programmnya.\n",
    "# Contoh:\n",
    "# Enter a file name: mbox-short.txt\n",
    "# 04 3\n",
    "# 06 1\n",
    "# 07 1\n",
    "# 09 2\n",
    "# 10 3\n",
    "# 11 6\n",
    "# 14 1\n",
    "# 15 2\n",
    "# 16 4\n",
    "# 17 2\n",
    "# 18 1\n",
    "# 19 1\n",
    "\n",
    "filename = 'mbox-short.txt'  \n",
    "\n",
    "counts = {}\n",
    "with open(filename, 'r') as file:\n",
    "    for line in file:\n",
    "        if line.startswith('From '):\n",
    "            words = line.split()\n",
    "            time = words[5]\n",
    "            hour = time.split(':')[0]\n",
    "            counts[hour] = counts.get(hour, 0) + 1\n",
    "\n",
    "print(\"Jam\\tHasil\")\n",
    "print(\"------------------\")\n",
    "for hour in sorted(counts.keys()):\n",
    "    print(hour + \"\\t\" + str(counts[hour]))"
   ]
  }
 ],
 "metadata": {
  "kernelspec": {
   "display_name": "Python 3",
   "language": "python",
   "name": "python3"
  },
  "language_info": {
   "codemirror_mode": {
    "name": "ipython",
    "version": 3
   },
   "file_extension": ".py",
   "mimetype": "text/x-python",
   "name": "python",
   "nbconvert_exporter": "python",
   "pygments_lexer": "ipython3",
   "version": "3.11.5"
  }
 },
 "nbformat": 4,
 "nbformat_minor": 2
}
